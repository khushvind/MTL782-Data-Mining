{
  "cells": [
    {
      "cell_type": "markdown",
      "metadata": {
        "id": "7pQ76JizGQ3s"
      },
      "source": [
        "# Assignment 2\n",
        "Team Members:\n",
        "1. Khushvind Maurya (2021MT10238)\n",
        "2. Aniket Singh (2021MT10256)\n",
        "2. Rishabh Jaiswal (2021MT10924)"
      ]
    },
    {
      "cell_type": "markdown",
      "metadata": {
        "id": "kCkR6JLqGQ3v"
      },
      "source": [
        "# Import Libraries"
      ]
    },
    {
      "cell_type": "code",
      "execution_count": null,
      "metadata": {
        "id": "YtY9VhuyGQ3w"
      },
      "outputs": [],
      "source": [
        "import tensorflow as tf\n",
        "from tensorflow.keras.datasets import mnist\n",
        "from sklearn.metrics import classification_report,accuracy_score,precision_score\n",
        "from sklearn.model_selection import cross_val_score, GridSearchCV, RandomizedSearchCV\n",
        "import matplotlib.pyplot as plt"
      ]
    },
    {
      "cell_type": "markdown",
      "metadata": {
        "id": "Rgh-nSbcGQ3x"
      },
      "source": [
        "# Import Data"
      ]
    },
    {
      "cell_type": "code",
      "execution_count": null,
      "metadata": {
        "id": "4C8Rp9owGQ3x"
      },
      "outputs": [],
      "source": [
        "(X_train, y_train), (X_test, y_test) = mnist.load_data()"
      ]
    },
    {
      "cell_type": "code",
      "execution_count": null,
      "metadata": {
        "id": "hPiRD7NHO0Zu"
      },
      "outputs": [],
      "source": [
        "plt.figure(figsize=(10, 10))\n",
        "for i in range(5):\n",
        "    plt.subplot(5, 5, i + 1)\n",
        "    plt.xticks([])\n",
        "    plt.yticks([])\n",
        "    plt.grid(False)\n",
        "    plt.imshow(X_train[i], cmap=\"gray\")\n",
        "plt.show()"
      ]
    },
    {
      "cell_type": "code",
      "source": [
        "X_train = X_train.astype('float32') / 255.0\n",
        "X_test = X_test.astype('float32') / 255.0"
      ],
      "metadata": {
        "id": "R-YBYG3LJ98g"
      },
      "execution_count": null,
      "outputs": []
    },
    {
      "cell_type": "code",
      "execution_count": null,
      "metadata": {
        "id": "IEf787piGQ3y"
      },
      "outputs": [],
      "source": [
        "print (X_train.shape)"
      ]
    },
    {
      "cell_type": "code",
      "execution_count": null,
      "metadata": {
        "id": "npsxZhI7GQ30"
      },
      "outputs": [],
      "source": [
        "print (y_train.shape)"
      ]
    },
    {
      "cell_type": "markdown",
      "metadata": {
        "id": "6ZqVjtNotIp5"
      },
      "source": [
        "Before training the data, we need to flatten the data."
      ]
    },
    {
      "cell_type": "code",
      "execution_count": null,
      "metadata": {
        "id": "E681trejtHnF"
      },
      "outputs": [],
      "source": [
        "X_train_flat = X_train.reshape(X_train.shape[0], -1)\n",
        "X_test_flat = X_test.reshape(X_test.shape[0], -1)"
      ]
    },
    {
      "cell_type": "markdown",
      "metadata": {
        "id": "xQAhIGQ_GQ30"
      },
      "source": [
        "#Tasks\n",
        "### A. Using MNIST Handwritten digits DATASET\n",
        "Implement\n",
        "1. Decision Tree\n",
        "2. Random Forest\n",
        "3. Naïve Bayes Classifier\n",
        "4. KNN Classifier\n",
        "5. Neural Network Classifier\n",
        "\n",
        "And compare the performances using k-fold cross validation and other tuning techniques to do multi-class classification where the idea is to classify the image to one of the ten digits (0-9).\n",
        "\n",
        "### B. Exploration of Different Evaluation Metrics.\n",
        "Evaluate your methods using different evaluation metrics.\n",
        "\n",
        "### C. Parameter Tuning through Grid Search/Cross Validation\n",
        "Tune the parameters using two powerful techniques of grid search and parameter search."
      ]
    },
    {
      "cell_type": "markdown",
      "metadata": {
        "id": "fAa_L_V3GQ3_"
      },
      "source": [
        "## Decision Tree"
      ]
    },
    {
      "cell_type": "code",
      "execution_count": null,
      "metadata": {
        "id": "Nn5dImByGQ3_"
      },
      "outputs": [],
      "source": [
        "from sklearn.tree import DecisionTreeClassifier"
      ]
    },
    {
      "cell_type": "markdown",
      "metadata": {
        "id": "e5Ixt0V_b2zY"
      },
      "source": [
        "A. Implementing a Decision Tree Classifier, and checking the accuracy using k-fold Cross Validation."
      ]
    },
    {
      "cell_type": "code",
      "execution_count": null,
      "metadata": {
        "id": "lYR-iSLLGQ4A"
      },
      "outputs": [],
      "source": [
        "model = DecisionTreeClassifier()\n",
        "cross_val = (cross_val_score(model,X_train_flat,y_train,cv= 5))\n",
        "print (\"Cross Validation Score =\",cross_val.mean())"
      ]
    },
    {
      "cell_type": "markdown",
      "metadata": {
        "id": "JjY1RcdTb5rA"
      },
      "source": [
        "B. Evaluating the method using different evaluation metrics."
      ]
    },
    {
      "cell_type": "code",
      "execution_count": null,
      "metadata": {
        "id": "xCfh5HzpGQ4A"
      },
      "outputs": [],
      "source": [
        "model.fit(X_train_flat,y_train)\n",
        "predictions = model.predict(X_test_flat)\n",
        "print (classification_report(y_test,predictions))"
      ]
    },
    {
      "cell_type": "markdown",
      "metadata": {
        "id": "NxQ4i_NDb7as"
      },
      "source": [
        "C. Parameter Tuning through Grid Search and Random Search"
      ]
    },
    {
      "cell_type": "code",
      "execution_count": null,
      "metadata": {
        "id": "0XsAwmCDMCmr"
      },
      "outputs": [],
      "source": [
        "model = DecisionTreeClassifier()\n",
        "param_grid = {'max_depth': [None, 2, 4, 6, 8],\n",
        "              'min_samples_split': [2, 4, 6, 8],\n",
        "              }\n",
        "\n",
        "grid_search = GridSearchCV(estimator=model, param_grid=param_grid, cv=5, scoring='accuracy')\n",
        "grid_search.fit(X_train_flat, y_train)\n",
        "\n",
        "best_params = grid_search.best_params_\n",
        "best_score = grid_search.best_score_\n",
        "\n",
        "print(\"Best Parameters:\", best_params)\n",
        "print(\"Best Score:\", best_score)"
      ]
    },
    {
      "cell_type": "code",
      "execution_count": null,
      "metadata": {
        "id": "7orR3Ud9MFbm"
      },
      "outputs": [],
      "source": [
        "randomized_search = RandomizedSearchCV(estimator=model, param_distributions=param_grid, n_iter=10, cv=5, scoring='accuracy')\n",
        "randomized_search.fit(X_train_flat, y_train)\n",
        "\n",
        "best_params = randomized_search.best_params_\n",
        "best_score = randomized_search.best_score_\n",
        "\n",
        "print(\"Best Parameters:\", best_params)\n",
        "print(\"Best Score:\", best_score)"
      ]
    },
    {
      "cell_type": "markdown",
      "metadata": {
        "id": "IKKm1g7pGQ4A"
      },
      "source": [
        "# Random Forest"
      ]
    },
    {
      "cell_type": "code",
      "execution_count": null,
      "metadata": {
        "id": "wKhYOBLeGQ4B"
      },
      "outputs": [],
      "source": [
        "from sklearn.ensemble import RandomForestClassifier"
      ]
    },
    {
      "cell_type": "markdown",
      "metadata": {
        "id": "xBrdx7nfcAUV"
      },
      "source": [
        "A. Implementing a random Forest Classifier, and checking the accuracy using k-fold Cross Validation."
      ]
    },
    {
      "cell_type": "code",
      "execution_count": null,
      "metadata": {
        "id": "B_a-4xoBGQ4B"
      },
      "outputs": [],
      "source": [
        "model = RandomForestClassifier()\n",
        "cross_val = (cross_val_score(model,X_train_flat,y_train,cv= 5))\n",
        "print (\"Cross Validation Score =\",cross_val.mean())"
      ]
    },
    {
      "cell_type": "markdown",
      "metadata": {
        "id": "xBVMgz6DcBc3"
      },
      "source": [
        "B. Evaluating the method using different evaluation metrics."
      ]
    },
    {
      "cell_type": "code",
      "execution_count": null,
      "metadata": {
        "id": "QGd5JhvBGQ4B"
      },
      "outputs": [],
      "source": [
        "model.fit(X_train_flat,y_train)\n",
        "predictions = model.predict(X_test_flat)\n",
        "print (classification_report(y_test,predictions))"
      ]
    },
    {
      "cell_type": "markdown",
      "metadata": {
        "id": "tSvRYdS0cCUb"
      },
      "source": [
        "C. Parameter Tuning through Grid Search and Random Search"
      ]
    },
    {
      "cell_type": "code",
      "execution_count": null,
      "metadata": {
        "colab": {
          "background_save": true
        },
        "id": "wpR4ZyU80_p-"
      },
      "outputs": [],
      "source": [
        "model = RandomForestClassifier()\n",
        "param_grid = {'max_depth': [None, 2, 4, 6, 8],\n",
        "              'n_estimators': [80, 90, 100, 110, 120]\n",
        "              }\n",
        "\n",
        "grid_search = GridSearchCV(estimator=model, param_grid=param_grid, cv=5, scoring='accuracy')\n",
        "grid_search.fit(X_train_flat, y_train)\n",
        "\n",
        "best_params = grid_search.best_params_\n",
        "best_score = grid_search.best_score_\n",
        "\n",
        "print(\"Best Parameters:\", best_params)\n",
        "print(\"Best Score:\", best_score)"
      ]
    },
    {
      "cell_type": "code",
      "execution_count": null,
      "metadata": {
        "colab": {
          "background_save": true
        },
        "id": "kg06At91x5Eu"
      },
      "outputs": [],
      "source": [
        "randomized_search = RandomizedSearchCV(estimator=model, param_distributions=param_grid, n_iter=5, cv=5, scoring='accuracy')\n",
        "randomized_search.fit(X_train_flat, y_train)\n",
        "\n",
        "best_params = randomized_search.best_params_\n",
        "best_score = randomized_search.best_score_\n",
        "\n",
        "print(\"Best Parameters:\", best_params)\n",
        "print(\"Best Score:\", best_score)"
      ]
    },
    {
      "cell_type": "markdown",
      "metadata": {
        "id": "H6vKZDPVGQ4B"
      },
      "source": [
        "# Naïve Bayes Classifier"
      ]
    },
    {
      "cell_type": "code",
      "execution_count": null,
      "metadata": {
        "id": "G-LNGLQ3GQ4B"
      },
      "outputs": [],
      "source": [
        "from sklearn.naive_bayes import GaussianNB"
      ]
    },
    {
      "cell_type": "markdown",
      "metadata": {
        "id": "sHqizv8ecIam"
      },
      "source": [
        "A. Implementing a Naive Bayes Classifier, and checking the accuracy using k-fold Cross Validation."
      ]
    },
    {
      "cell_type": "code",
      "execution_count": null,
      "metadata": {
        "id": "NJo-AWDxGQ4C"
      },
      "outputs": [],
      "source": [
        "model = GaussianNB()\n",
        "cross_val = (cross_val_score(model,X_train_flat,y_train,cv= 5))\n",
        "print (\"Cross Validation Score =\",cross_val.mean())"
      ]
    },
    {
      "cell_type": "markdown",
      "metadata": {
        "id": "eOf6k7yXcJR6"
      },
      "source": [
        "B. Evaluating the method using different evaluation metrics."
      ]
    },
    {
      "cell_type": "code",
      "execution_count": null,
      "metadata": {
        "id": "t-O86nNqGQ4C"
      },
      "outputs": [],
      "source": [
        "model.fit(X_train_flat,y_train)\n",
        "predictions = model.predict(X_test_flat)\n",
        "print (classification_report(y_test,predictions))"
      ]
    },
    {
      "cell_type": "markdown",
      "metadata": {
        "id": "NT6zSv0ycJ6r"
      },
      "source": [
        "C. Parameter Tuning through Grid Search and Random Search\n",
        "\n",
        "Since Naive Bayes models in scikit-learn do not typically have hyperparameters to tune through traditional methods like grid search or random search, we have not shown it here."
      ]
    },
    {
      "cell_type": "markdown",
      "metadata": {
        "id": "tNXvUMtMGQ4C"
      },
      "source": [
        "# KNN Classifier"
      ]
    },
    {
      "cell_type": "code",
      "execution_count": null,
      "metadata": {
        "id": "1UCG2pnbGQ4C"
      },
      "outputs": [],
      "source": [
        "from sklearn.neighbors import KNeighborsClassifier"
      ]
    },
    {
      "cell_type": "markdown",
      "metadata": {
        "id": "N28aJ2BzcLZF"
      },
      "source": [
        "A. Implementing a KNN Classifier, and checking the accuracy using k-fold Cross Validation."
      ]
    },
    {
      "cell_type": "code",
      "execution_count": null,
      "metadata": {
        "id": "Wr0myNsTGQ4D"
      },
      "outputs": [],
      "source": [
        "model = KNeighborsClassifier()\n",
        "cross_val = (cross_val_score(model,X_train_flat,y_train,cv= 5))\n",
        "print (\"Cross Validation Score =\",cross_val.mean())"
      ]
    },
    {
      "cell_type": "markdown",
      "metadata": {
        "id": "vKVRYmyKcMI8"
      },
      "source": [
        "B. Evaluating the method using different evaluation metrics."
      ]
    },
    {
      "cell_type": "code",
      "execution_count": null,
      "metadata": {
        "id": "vOSSNV87GQ4D"
      },
      "outputs": [],
      "source": [
        "model.fit(X_train_flat,y_train)\n",
        "predictions = model.predict(X_test_flat)\n",
        "print (classification_report(y_test,predictions))"
      ]
    },
    {
      "cell_type": "markdown",
      "metadata": {
        "id": "OJssKcROcNHf"
      },
      "source": [
        "C. Parameter Tuning through Grid Search and Random Search"
      ]
    },
    {
      "cell_type": "code",
      "execution_count": null,
      "metadata": {
        "id": "6OfHjNCYM695"
      },
      "outputs": [],
      "source": [
        "model = KNeighborsClassifier()\n",
        "param_grid = {'n_neighbors': [i for i in range(1,11)]}\n",
        "\n",
        "grid_search = GridSearchCV(estimator=model, param_grid=param_grid, cv=5, scoring='accuracy')\n",
        "grid_search.fit(X_train_flat, y_train)\n",
        "\n",
        "best_params = grid_search.best_params_\n",
        "best_score = grid_search.best_score_\n",
        "\n",
        "print(\"Best Parameters:\", best_params)\n",
        "print(\"Best Score:\", best_score)"
      ]
    },
    {
      "cell_type": "code",
      "execution_count": null,
      "metadata": {
        "id": "W-pr-ZepN79S"
      },
      "outputs": [],
      "source": [
        "randomized_search = RandomizedSearchCV(estimator=model, param_distributions=param_grid, n_iter=5, cv=5, scoring='accuracy')\n",
        "randomized_search.fit(X_train_flat, y_train)\n",
        "\n",
        "best_params = randomized_search.best_params_\n",
        "best_score = randomized_search.best_score_\n",
        "\n",
        "print(\"Best Parameters:\", best_params)\n",
        "print(\"Best Score:\", best_score)"
      ]
    },
    {
      "cell_type": "markdown",
      "metadata": {
        "id": "F2yjqidyGQ4E"
      },
      "source": [
        "# Neural Network Classifier"
      ]
    },
    {
      "cell_type": "code",
      "execution_count": null,
      "metadata": {
        "id": "S5-o6dB6GQ4E"
      },
      "outputs": [],
      "source": [
        "from sklearn.neural_network import MLPClassifier"
      ]
    },
    {
      "cell_type": "markdown",
      "metadata": {
        "id": "_iP9nmNRcO8J"
      },
      "source": [
        "A. Implementing a Neural Network Classifier, and checking the accuracy using k-fold Cross Validation."
      ]
    },
    {
      "cell_type": "code",
      "execution_count": null,
      "metadata": {
        "id": "xoPUmfVpGQ4E"
      },
      "outputs": [],
      "source": [
        "model = MLPClassifier()\n",
        "cross_val = (cross_val_score(model,X_train_flat,y_train,cv= 5))\n",
        "print (\"Cross Validation Score =\",cross_val.mean())\n"
      ]
    },
    {
      "cell_type": "markdown",
      "metadata": {
        "id": "44mbJ0aAcPiF"
      },
      "source": [
        "B. Evaluating the method using different evaluation metrics."
      ]
    },
    {
      "cell_type": "code",
      "execution_count": null,
      "metadata": {
        "id": "VPzwYyxGGQ4F"
      },
      "outputs": [],
      "source": [
        "model.fit(X_train_flat,y_train)\n",
        "predictions = model.predict(X_test_flat)\n",
        "print (classification_report(y_test,predictions))"
      ]
    },
    {
      "cell_type": "markdown",
      "metadata": {
        "id": "qDMD7LyqcQ2d"
      },
      "source": [
        "C. Parameter Tuning through Grid Search and Random Search"
      ]
    },
    {
      "cell_type": "code",
      "execution_count": null,
      "metadata": {
        "id": "TqhUdGGVGQ4F"
      },
      "outputs": [],
      "source": [
        "model = MLPClassifier()\n",
        "param_grid = {'hidden_layer_sizes': [(50,), (100,), (200,), (50,50), (10,10)]}\n",
        "\n",
        "grid_search = GridSearchCV(estimator=model, param_grid=param_grid, cv=5, scoring='accuracy')\n",
        "grid_search.fit(X_train_flat, y_train)\n",
        "\n",
        "best_params = grid_search.best_params_\n",
        "best_score = grid_search.best_score_\n",
        "\n",
        "print(\"Best Parameters:\", best_params)\n",
        "print(\"Best Score:\", best_score)"
      ]
    },
    {
      "cell_type": "code",
      "execution_count": null,
      "metadata": {
        "id": "sQPiL49LN9Tr"
      },
      "outputs": [],
      "source": [
        "randomized_search = RandomizedSearchCV(estimator=model, param_distributions=param_grid, n_iter=3, cv=5, scoring='accuracy')\n",
        "randomized_search.fit(X_train_flat, y_train)\n",
        "\n",
        "best_params = randomized_search.best_params_\n",
        "best_score = randomized_search.best_score_\n",
        "\n",
        "print(\"Best Parameters:\", best_params)\n",
        "print(\"Best Score:\", best_score)"
      ]
    },
    {
      "cell_type": "code",
      "execution_count": null,
      "metadata": {
        "id": "Mi2NSCSJqb2b"
      },
      "outputs": [],
      "source": []
    }
  ],
  "metadata": {
    "accelerator": "GPU",
    "colab": {
      "gpuType": "T4",
      "provenance": []
    },
    "kernelspec": {
      "display_name": "Python 3",
      "name": "python3"
    },
    "language_info": {
      "codemirror_mode": {
        "name": "ipython",
        "version": 3
      },
      "file_extension": ".py",
      "mimetype": "text/x-python",
      "name": "python",
      "nbconvert_exporter": "python",
      "pygments_lexer": "ipython3",
      "version": "3.10.8"
    }
  },
  "nbformat": 4,
  "nbformat_minor": 0
}